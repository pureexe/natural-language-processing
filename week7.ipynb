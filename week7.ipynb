{
 "cells": [
  {
   "cell_type": "markdown",
   "metadata": {},
   "source": [
    "# Part of speech\n",
    "\n",
    "พาร์ทหลังมิดเทอม\n",
    "\n",
    "- lexical category\n",
    "- word class\n",
    "\n",
    "แต่ละ corpus อาจมีการติด tag ที่แตกต่างกันไป\n",
    "ตัวอย่าง Tag set\n",
    "- NN หรือ noun\n",
    "- VB หรือ Verb\n",
    "\n",
    "การติด tag ถือว่าเป็นส่วนหนึ่งของการดำเนินงาน nlp pipeline\n",
    "\n",
    "ตัวอย่างงานที่นำ POS tagging ไปใช้\n",
    "- text to speech\n",
    "- translate\n",
    "- chatbot\n",
    "\n",
    "จะสอน วิธีการใช้/วิธีการสร้างเอง (create tagger)\n",
    "\n",
    "คลังที่ติด tag ไว้แล้วและใช้บ่อย คือ nltk.corpus.brown"
   ]
  },
  {
   "cell_type": "markdown",
   "metadata": {},
   "source": [
    "## วิธีสร้าง Tagger\n",
    "- default tagger\n",
    "- regular expression tagger\n",
    "- uni-gram tagger\n",
    "- n-gram tagger"
   ]
  },
  {
   "cell_type": "markdown",
   "metadata": {},
   "source": [
    "## วิธีติด Tag\n",
    "ใช้ข้อมูลมาจาก upen corpus (University of pensivania / https://www.upenn.edu/)\n",
    "```python\n",
    "text  = nltk.word_tokeize(\"I eat fish\")\n",
    "nltk.post_tag(text)\n",
    "```\n",
    "\n",
    "หรือวิธีที่ติด tag ให้กับ string ที่เป็น รูปแบบ \"word/tag\"\n",
    "```python\n",
    "tagged_token = nltk.tag.str2tuple('fly/NN')\n",
    "```\n",
    "\n",
    "สำหรับ corpus ที่ติด tag มาแล้ว\n",
    "```python\n",
    "nltk.corpus.brown.tagged_words()\n",
    "```\n",
    "\n",
    "\n"
   ]
  },
  {
   "cell_type": "code",
   "execution_count": 3,
   "metadata": {},
   "outputs": [
    {
     "name": "stdout",
     "output_type": "stream",
     "text": [
      "[('And', 'CC'), ('now', 'RB'), ('for', 'IN'), ('something', 'NN'), ('completely', 'RB'), ('difference', 'NN')]\n"
     ]
    }
   ],
   "source": [
    "import nltk\n",
    "text = nltk.word_tokenize(\"And now for something completely difference\")\n",
    "print(nltk.pos_tag(text))"
   ]
  },
  {
   "cell_type": "code",
   "execution_count": 5,
   "metadata": {},
   "outputs": [
    {
     "name": "stdout",
     "output_type": "stream",
     "text": [
      "$: dollar\n",
      "    $ -$ --$ A$ C$ HK$ M$ NZ$ S$ U.S.$ US$\n",
      "'': closing quotation mark\n",
      "    ' ''\n",
      "(: opening parenthesis\n",
      "    ( [ {\n",
      "): closing parenthesis\n",
      "    ) ] }\n",
      ",: comma\n",
      "    ,\n",
      "--: dash\n",
      "    --\n",
      ".: sentence terminator\n",
      "    . ! ?\n",
      ":: colon or ellipsis\n",
      "    : ; ...\n",
      "CC: conjunction, coordinating\n",
      "    & 'n and both but either et for less minus neither nor or plus so\n",
      "    therefore times v. versus vs. whether yet\n",
      "CD: numeral, cardinal\n",
      "    mid-1890 nine-thirty forty-two one-tenth ten million 0.5 one forty-\n",
      "    seven 1987 twenty '79 zero two 78-degrees eighty-four IX '60s .025\n",
      "    fifteen 271,124 dozen quintillion DM2,000 ...\n",
      "DT: determiner\n",
      "    all an another any both del each either every half la many much nary\n",
      "    neither no some such that the them these this those\n",
      "EX: existential there\n",
      "    there\n",
      "FW: foreign word\n",
      "    gemeinschaft hund ich jeux habeas Haementeria Herr K'ang-si vous\n",
      "    lutihaw alai je jour objets salutaris fille quibusdam pas trop Monte\n",
      "    terram fiche oui corporis ...\n",
      "IN: preposition or conjunction, subordinating\n",
      "    astride among uppon whether out inside pro despite on by throughout\n",
      "    below within for towards near behind atop around if like until below\n",
      "    next into if beside ...\n",
      "JJ: adjective or numeral, ordinal\n",
      "    third ill-mannered pre-war regrettable oiled calamitous first separable\n",
      "    ectoplasmic battery-powered participatory fourth still-to-be-named\n",
      "    multilingual multi-disciplinary ...\n",
      "JJR: adjective, comparative\n",
      "    bleaker braver breezier briefer brighter brisker broader bumper busier\n",
      "    calmer cheaper choosier cleaner clearer closer colder commoner costlier\n",
      "    cozier creamier crunchier cuter ...\n",
      "JJS: adjective, superlative\n",
      "    calmest cheapest choicest classiest cleanest clearest closest commonest\n",
      "    corniest costliest crassest creepiest crudest cutest darkest deadliest\n",
      "    dearest deepest densest dinkiest ...\n",
      "LS: list item marker\n",
      "    A A. B B. C C. D E F First G H I J K One SP-44001 SP-44002 SP-44005\n",
      "    SP-44007 Second Third Three Two * a b c d first five four one six three\n",
      "    two\n",
      "MD: modal auxiliary\n",
      "    can cannot could couldn't dare may might must need ought shall should\n",
      "    shouldn't will would\n",
      "NN: noun, common, singular or mass\n",
      "    common-carrier cabbage knuckle-duster Casino afghan shed thermostat\n",
      "    investment slide humour falloff slick wind hyena override subhumanity\n",
      "    machinist ...\n",
      "NNP: noun, proper, singular\n",
      "    Motown Venneboerger Czestochwa Ranzer Conchita Trumplane Christos\n",
      "    Oceanside Escobar Kreisler Sawyer Cougar Yvette Ervin ODI Darryl CTCA\n",
      "    Shannon A.K.C. Meltex Liverpool ...\n",
      "NNPS: noun, proper, plural\n",
      "    Americans Americas Amharas Amityvilles Amusements Anarcho-Syndicalists\n",
      "    Andalusians Andes Andruses Angels Animals Anthony Antilles Antiques\n",
      "    Apache Apaches Apocrypha ...\n",
      "NNS: noun, common, plural\n",
      "    undergraduates scotches bric-a-brac products bodyguards facets coasts\n",
      "    divestitures storehouses designs clubs fragrances averages\n",
      "    subjectivists apprehensions muses factory-jobs ...\n",
      "PDT: pre-determiner\n",
      "    all both half many quite such sure this\n",
      "POS: genitive marker\n",
      "    ' 's\n",
      "PRP: pronoun, personal\n",
      "    hers herself him himself hisself it itself me myself one oneself ours\n",
      "    ourselves ownself self she thee theirs them themselves they thou thy us\n",
      "PRP$: pronoun, possessive\n",
      "    her his mine my our ours their thy your\n",
      "RB: adverb\n",
      "    occasionally unabatingly maddeningly adventurously professedly\n",
      "    stirringly prominently technologically magisterially predominately\n",
      "    swiftly fiscally pitilessly ...\n",
      "RBR: adverb, comparative\n",
      "    further gloomier grander graver greater grimmer harder harsher\n",
      "    healthier heavier higher however larger later leaner lengthier less-\n",
      "    perfectly lesser lonelier longer louder lower more ...\n",
      "RBS: adverb, superlative\n",
      "    best biggest bluntest earliest farthest first furthest hardest\n",
      "    heartiest highest largest least less most nearest second tightest worst\n",
      "RP: particle\n",
      "    aboard about across along apart around aside at away back before behind\n",
      "    by crop down ever fast for forth from go high i.e. in into just later\n",
      "    low more off on open out over per pie raising start teeth that through\n",
      "    under unto up up-pp upon whole with you\n",
      "SYM: symbol\n",
      "    % & ' '' ''. ) ). * + ,. < = > @ A[fj] U.S U.S.S.R * ** ***\n",
      "TO: \"to\" as preposition or infinitive marker\n",
      "    to\n",
      "UH: interjection\n",
      "    Goodbye Goody Gosh Wow Jeepers Jee-sus Hubba Hey Kee-reist Oops amen\n",
      "    huh howdy uh dammit whammo shucks heck anyways whodunnit honey golly\n",
      "    man baby diddle hush sonuvabitch ...\n",
      "VB: verb, base form\n",
      "    ask assemble assess assign assume atone attention avoid bake balkanize\n",
      "    bank begin behold believe bend benefit bevel beware bless boil bomb\n",
      "    boost brace break bring broil brush build ...\n",
      "VBD: verb, past tense\n",
      "    dipped pleaded swiped regummed soaked tidied convened halted registered\n",
      "    cushioned exacted snubbed strode aimed adopted belied figgered\n",
      "    speculated wore appreciated contemplated ...\n",
      "VBG: verb, present participle or gerund\n",
      "    telegraphing stirring focusing angering judging stalling lactating\n",
      "    hankerin' alleging veering capping approaching traveling besieging\n",
      "    encrypting interrupting erasing wincing ...\n",
      "VBN: verb, past participle\n",
      "    multihulled dilapidated aerosolized chaired languished panelized used\n",
      "    experimented flourished imitated reunifed factored condensed sheared\n",
      "    unsettled primed dubbed desired ...\n",
      "VBP: verb, present tense, not 3rd person singular\n",
      "    predominate wrap resort sue twist spill cure lengthen brush terminate\n",
      "    appear tend stray glisten obtain comprise detest tease attract\n",
      "    emphasize mold postpone sever return wag ...\n",
      "VBZ: verb, present tense, 3rd person singular\n",
      "    bases reconstructs marks mixes displeases seals carps weaves snatches\n",
      "    slumps stretches authorizes smolders pictures emerges stockpiles\n",
      "    seduces fizzes uses bolsters slaps speaks pleads ...\n",
      "WDT: WH-determiner\n",
      "    that what whatever which whichever\n",
      "WP: WH-pronoun\n",
      "    that what whatever whatsoever which who whom whosoever\n",
      "WP$: WH-pronoun, possessive\n",
      "    whose\n",
      "WRB: Wh-adverb\n",
      "    how however whence whenever where whereby whereever wherein whereof why\n",
      "``: opening quotation mark\n",
      "    ` ``\n"
     ]
    }
   ],
   "source": [
    "nltk.help.upenn_tagset()"
   ]
  },
  {
   "cell_type": "code",
   "execution_count": 6,
   "metadata": {},
   "outputs": [
    {
     "name": "stdout",
     "output_type": "stream",
     "text": [
      "NN: noun, common, singular or mass\n",
      "    common-carrier cabbage knuckle-duster Casino afghan shed thermostat\n",
      "    investment slide humour falloff slick wind hyena override subhumanity\n",
      "    machinist ...\n"
     ]
    }
   ],
   "source": [
    "nltk.help.upenn_tagset('NN')"
   ]
  },
  {
   "cell_type": "code",
   "execution_count": 7,
   "metadata": {},
   "outputs": [
    {
     "name": "stdout",
     "output_type": "stream",
     "text": [
      "NN: noun, common, singular or mass\n",
      "    common-carrier cabbage knuckle-duster Casino afghan shed thermostat\n",
      "    investment slide humour falloff slick wind hyena override subhumanity\n",
      "    machinist ...\n",
      "NNP: noun, proper, singular\n",
      "    Motown Venneboerger Czestochwa Ranzer Conchita Trumplane Christos\n",
      "    Oceanside Escobar Kreisler Sawyer Cougar Yvette Ervin ODI Darryl CTCA\n",
      "    Shannon A.K.C. Meltex Liverpool ...\n",
      "NNPS: noun, proper, plural\n",
      "    Americans Americas Amharas Amityvilles Amusements Anarcho-Syndicalists\n",
      "    Andalusians Andes Andruses Angels Animals Anthony Antilles Antiques\n",
      "    Apache Apaches Apocrypha ...\n",
      "NNS: noun, common, plural\n",
      "    undergraduates scotches bric-a-brac products bodyguards facets coasts\n",
      "    divestitures storehouses designs clubs fragrances averages\n",
      "    subjectivists apprehensions muses factory-jobs ...\n"
     ]
    }
   ],
   "source": [
    "nltk.help.upenn_tagset('NN.*')"
   ]
  },
  {
   "cell_type": "markdown",
   "metadata": {},
   "source": [
    "### การดูว่าบริบทคล้ายกัน\n",
    "แบบง่าย ใช้ .similar ถ้าไม่มี pos tag ช่วย"
   ]
  },
  {
   "cell_type": "markdown",
   "metadata": {},
   "source": [
    "### Corpus ที่ติด tag ให้\n",
    "- brown\n",
    "- conll2000 (ภาษาสเปน, เป็น tagset พิเศษ)\n",
    "- treebank "
   ]
  },
  {
   "cell_type": "code",
   "execution_count": 9,
   "metadata": {},
   "outputs": [
    {
     "data": {
      "text/plain": [
       "[('Pierre', 'NOUN'),\n",
       " ('Vinken', 'NOUN'),\n",
       " (',', '.'),\n",
       " ('61', 'NUM'),\n",
       " ('years', 'NOUN'),\n",
       " ('old', 'ADJ'),\n",
       " (',', '.'),\n",
       " ('will', 'VERB'),\n",
       " ('join', 'VERB'),\n",
       " ('the', 'DET')]"
      ]
     },
     "execution_count": 9,
     "metadata": {},
     "output_type": "execute_result"
    }
   ],
   "source": [
    "#การแปลง tagset จาก upen เป็น universal\n",
    "nltk.corpus.treebank.tagged_words(tagset='universal')[:10]"
   ]
  },
  {
   "cell_type": "markdown",
   "metadata": {},
   "source": [
    "## Frequncy Distribution with tagged corpora"
   ]
  },
  {
   "cell_type": "code",
   "execution_count": 10,
   "metadata": {},
   "outputs": [
    {
     "data": {
      "text/plain": [
       "[('NOUN', 30654),\n",
       " ('VERB', 14399),\n",
       " ('ADP', 12355),\n",
       " ('.', 11928),\n",
       " ('DET', 11389),\n",
       " ('ADJ', 6706),\n",
       " ('ADV', 3349),\n",
       " ('CONJ', 2717),\n",
       " ('PRON', 2535),\n",
       " ('PRT', 2264),\n",
       " ('NUM', 2166),\n",
       " ('X', 92)]"
      ]
     },
     "execution_count": 10,
     "metadata": {},
     "output_type": "execute_result"
    }
   ],
   "source": [
    "from nltk.corpus import brown\n",
    "brown_news_tagged = brown.tagged_words(categories='news',tagset='universal')\n",
    "tag_fd = nltk.FreqDist(tag for (word,tag) in brown_news_tagged)\n",
    "tag_fd.most_common()"
   ]
  },
  {
   "cell_type": "code",
   "execution_count": 11,
   "metadata": {},
   "outputs": [
    {
     "data": {
      "image/png": "[encoded data removed]",
      "text/plain": [
       "<matplotlib.figure.Figure at 0x21fad1ae390>"
      ]
     },
     "metadata": {},
     "output_type": "display_data"
    }
   ],
   "source": [
    "tag_fd.plot(cumulative=True)"
   ]
  },
  {
   "cell_type": "markdown",
   "metadata": {},
   "source": [
    "## แอปสำเร็จรูป"
   ]
  },
  {
   "cell_type": "code",
   "execution_count": 15,
   "metadata": {},
   "outputs": [],
   "source": [
    "import nltk\n",
    "nltk.app.concordance()"
   ]
  },
  {
   "cell_type": "code",
   "execution_count": 19,
   "metadata": {},
   "outputs": [
    {
     "name": "stdout",
     "output_type": "stream",
     "text": [
      "[(('The', 'DET'), ('Fulton', 'NOUN')), (('Fulton', 'NOUN'), ('County', 'NOUN')), (('County', 'NOUN'), ('Grand', 'ADJ')), (('Grand', 'ADJ'), ('Jury', 'NOUN')), (('Jury', 'NOUN'), ('said', 'VERB'))]\n",
      "['DET', 'NOUN', 'ADJ', 'VERB', 'DET', 'ADP', 'ADJ', 'NOUN', 'DET', 'DET', 'VERB', 'DET', 'ADP', 'NOUN', 'DET', 'ADJ', 'ADJ', 'DET', 'DET', 'CONJ']\n",
      "['DET', 'ADJ', 'NOUN', 'ADP', '.', 'VERB', 'CONJ', 'NUM', 'ADV', 'PRT', 'PRON', 'X']\n"
     ]
    }
   ],
   "source": [
    "brown_news_tagged = nltk.corpus.brown.tagged_words(tagset = 'universal')\n",
    "word_tag_pairs = list(nltk.bigrams(brown_news_tagged))\n",
    "print(word_tag_pairs[:5])\n",
    "noun_preceders = [a[1] for (a,b) in word_tag_pairs if b[1] == 'NOUN']\n",
    "print(noun_preceders[:20])\n",
    "fdist = nltk.FreqDist(noun_preceders)\n",
    "print([tag for (tag,_) in fdist.most_common()])"
   ]
  },
  {
   "cell_type": "code",
   "execution_count": 20,
   "metadata": {},
   "outputs": [
    {
     "data": {
      "image/png": "[encoded data removed]",
      "text/plain": [
       "<matplotlib.figure.Figure at 0x21fc1e72b38>"
      ]
     },
     "metadata": {},
     "output_type": "display_data"
    },
    {
     "data": {
      "text/plain": [
       "[('DET', 85845),\n",
       " ('ADJ', 54653),\n",
       " ('NOUN', 41309),\n",
       " ('ADP', 37418),\n",
       " ('.', 20084),\n",
       " ('VERB', 17851),\n",
       " ('CONJ', 9294),\n",
       " ('NUM', 5668),\n",
       " ('ADV', 1851),\n",
       " ('PRT', 1068),\n",
       " ('PRON', 440),\n",
       " ('X', 77)]"
      ]
     },
     "execution_count": 20,
     "metadata": {},
     "output_type": "execute_result"
    }
   ],
   "source": [
    "fdist.plot()\n",
    "fdist.most_common()"
   ]
  },
  {
   "cell_type": "code",
   "execution_count": 23,
   "metadata": {},
   "outputs": [
    {
     "data": {
      "text/plain": [
       "[('DET', 65962)]"
      ]
     },
     "execution_count": 23,
     "metadata": {},
     "output_type": "execute_result"
    }
   ],
   "source": [
    "#Quest อยากได้ว่าคำอะไรที่ตามหลัง ... preposition(ADP)\n",
    "brown_news_tagged = nltk.corpus.brown.tagged_words(tagset = 'universal')\n",
    "word_tag_pairs = list(nltk.bigrams(brown_news_tagged))\n",
    "noun_preceders = [b[1] for (a,b) in word_tag_pairs if a[1] == 'ADP'] \n",
    "fdist = nltk.FreqDist(noun_preceders)\n",
    "fdist.most_common(1)\n"
   ]
  },
  {
   "cell_type": "code",
   "execution_count": 32,
   "metadata": {},
   "outputs": [
    {
     "name": "stdout",
     "output_type": "stream",
     "text": [
      "672\n",
      "[(('the', 'DET'), 4753), (('of', 'ADP'), 2325), (('to', 'PRT'), 2179), (('a', 'DET'), 1979), (('in', 'ADP'), 1749), (('and', 'CONJ'), 1549), (('for', 'ADP'), 851), ((\"'s\", 'PRT'), 761), (('is', 'VERB'), 672), (('said', 'VERB'), 628), (('it', 'PRON'), 577), (('that', 'ADP'), 514), (('on', 'ADP'), 500), (('%', 'NOUN'), 445), (('by', 'ADP'), 438), (('at', 'ADP'), 430), (('with', 'ADP'), 398), (('from', 'ADP'), 391), (('mr.', 'NOUN'), 375), (('was', 'VERB'), 367), (('are', 'VERB'), 367), (('as', 'ADP'), 362), (('be', 'VERB'), 356), (('its', 'PRON'), 343), (('has', 'VERB'), 339), (('an', 'DET'), 335), (('that', 'DET'), 331), ((\"n't\", 'ADV'), 325), (('have', 'VERB'), 323), (('but', 'CONJ'), 307), (('he', 'PRON'), 303), (('or', 'CONJ'), 294), (('will', 'VERB'), 280), (('they', 'PRON'), 263), (('company', 'NOUN'), 260), (('this', 'DET'), 224), (('which', 'DET'), 224), (('u.s.', 'NOUN'), 220), (('says', 'VERB'), 217), (('year', 'NOUN'), 214), (('would', 'VERB'), 209), (('were', 'VERB'), 197), (('market', 'NOUN'), 186), (('their', 'PRON'), 184), (('about', 'ADP'), 182), (('than', 'ADP'), 181), (('stock', 'NOUN'), 172), (('new', 'ADJ'), 168), (('who', 'PRON'), 167), (('had', 'VERB'), 165)]\n"
     ]
    }
   ],
   "source": [
    "##การบ้าน  ให้นับ taggedword\n",
    "\n",
    "wsj = nltk.corpus.treebank.tagged_words(tagset='universal')\n",
    "word_tag_fd = nltk.FreqDist([(w[0].lower(),w[1]) for w in wsj  if w[1] != '.' and w[1] != 'NUM' and w[1] != 'X'])\n",
    "print(word_tag_fd[('is','VERB')])\n",
    "print(word_tag_fd.most_common(50))"
   ]
  },
  {
   "cell_type": "code",
   "execution_count": 34,
   "metadata": {},
   "outputs": [
    {
     "name": "stdout",
     "output_type": "stream",
     "text": [
      "[(('the', 'DET'), 4753), (('a', 'DET'), 1979), (('an', 'DET'), 335), (('that', 'DET'), 331), (('this', 'DET'), 224), (('which', 'DET'), 224), (('some', 'DET'), 144), (('all', 'DET'), 113), (('any', 'DET'), 106), (('there', 'DET'), 88), (('no', 'DET'), 86), (('these', 'DET'), 77), (('those', 'DET'), 61), (('another', 'DET'), 48), (('each', 'DET'), 46), (('both', 'DET'), 44), (('every', 'DET'), 21), (('half', 'DET'), 14), (('neither', 'DET'), 12), (('such', 'DET'), 7), (('either', 'DET'), 5), (('what', 'DET'), 3), (('la', 'DET'), 1), (('le', 'DET'), 1), (('del', 'DET'), 1), (('whichever', 'DET'), 1)]\n"
     ]
    }
   ],
   "source": [
    "## หาคำเฉพาะที่เป็น DET\n",
    "wsj = nltk.corpus.treebank.tagged_words(tagset='universal')\n",
    "word_tag_fd = nltk.FreqDist([(w[0].lower(),w[1]) for w in wsj  if w[1] == 'DET'])\n",
    "print(word_tag_fd.most_common(50))"
   ]
  },
  {
   "cell_type": "code",
   "execution_count": 38,
   "metadata": {},
   "outputs": [
    {
     "name": "stdout",
     "output_type": "stream",
     "text": [
      "692 ['named', 'used', 'caused', 'exposed', 'reported', 'replaced', 'sold', 'died', 'expected', 'diagnosed', 'studied', 'industrialized', 'owned', 'found', 'classified', 'rejected', 'outlawed', 'imported', 'tracked', 'thought', 'considered', 'elected', 'based', 'lifted', 'ensnarled', 'voted', 'been', 'held', 'banned', 'renovated', 'prolonged', 'recorded', 'accumulated', 'offered', 'become', 'guaranteed', 'proposed', 'related', 'improved', 'worried', 'cluttered', 'expedited', 'retired', 'ordered', 'collected', 'required', 'received', 'moved', 'determined', 'made', 'changed', 'completed', 'disputed', 'refunded', 'estimated', 'compared', 'located', 'filed', 'scrapped', 'anticipated', 'priced', 'set', 'applied', 'existed', 'incurred', 'reached', 'Regarded', 'paid', 'trained', 'instituted', 'vowed', 'deemed', 'combined', 'removed', 'concerned', 'complained', 'accelerated', 'believed', 'called', 'solved', 'forgiven', 'launched', 'built', 'preferred', 'raised', 'scheduled', 'brought', 'increased', 'developed', 'led', 'approved', 'produced', 'denied', 'requested', 'covered', 'assembled', 'achieved', 'maintained', 'left', 'assisted', 'placed', 'put', 'linked', 'designed', 'boosted', 'issued', 'incorporated', 'advertised', 'announced', 'traded', 'registered', 'ranged', 'capped', 'kicked', 'focused', 'fixed', 'listed', 'turned', 'scrambled', 'outpaced', 'burned', 'clobbered', 'climbed', 'closed', 'skyrocketed', 'surged', 'targeted', 'tied', 'invested', 'jumped', 'alarmed', 'fattened', 'cast', 'repaid', 'permitted', 'crippled', 'lent', 'amended', 'settled', 'manufactured', 'fallen', 'adjusted', 'failed', 'watched', 'intended', 'helped', 'awarded', 'spent', 'provided', 'coupled', 'broken', 'rooted', 'written', 'played', 'welcomed', 'rationed', 'assigned', 'run', 'opened', 'designated', 'carried', 'surveyed', 'confirmed', 'tested', 'had', 'strapped', 'twinned', 'planned', 'operated', 'painted', 'accrued', 'swapped', 'laid', 'obsessed', 'revived', 'prepared', 'romanticized', 'Filmed', 'populated', 'condemned', 'given', 'murdered', 'managed', 'viewed', 'executed', 'presented', 'chopped', 'taken', 'worked', 'speculated', 'come', 'scattered', 'prompted', 'convicted', 'caught', 'Stung', 'opposed', 'refused', 'blamed', 'superimposed', 'nurtured', 'created', 'attracted', 'interrogated', 'accused', 'introduced', 'grown', 'gotten', 'rusted', 'involved', 'responded', 'cleaned', 'dumped', 'quoted', 'asked', 'pursued', 'knitted', 'tripled', 'known', 'spurred', 'seen', 'passed', 'Confronted', 'gone', 'fired', 'prosecuted', 'treated', 'enhanced', 'released', 'inflated', 'surfaced', 'posted', 'educated', 'faded', 'stabbed', 'chosen', 'learned', 'tried', 'discovered', 'dismissed', 'crowded', 'got', 'overused', 'expunged', 'interviewed', 'wanted', 'aimed', 'replicated', 'referred', 'matched', 'measured', 'continued', 'funded', 'threatened', 'embroiled', 'hampered', 'withdrawn', 'assured', 'charged', 'judged', 'polarized', 'Rekindled', 'agreed', 'indicated', 'returned', 'signed', 'acquired', 'associated', 'lost', 'redeemed', 'ended', 'protected', 'argued', 'heard', 'sent', 'alleged', 'retained', 'chaired', 'prohibited', 'initiated', 'mailed', 'obtained', 'relegated', 'employed', 'UPHELD', 'adopted', 'sparked', 'killed', 'appointed', 'exhibited', 'empowered', 'served', 'disclosed', 'accepted', 'fueled', 'decided', 'contacted', 'formed', 'compiled', 'Guaranteed', 'Related', 'positioned', 'buoyed', 'kept', 'locked', 'offset', 'convinced', 'mollified', 'valued', 'rolled', 'Estimated', 'flooded', 'pleased', 'Founded', 'alienated', 'chastised', 'printed', 'portrayed', 'relied', 'recycled', 'Asked', 'scared', 'handled', 'serviced', 'damaged', 'Developed', 'pressed', 'allocated', 'converted', 'mired', 'barred', 'said', 'equipped', 'classed', 'depressed', 'installed', 'met', 'enclosed', 'dropped', 'hit', 'reduced', 'limited', 'perceived', 'rarefied', 'zoomed', 'soared', 'commanded', 'exhausted', 'shipped', 'spread', 'talked', 'excited', 'overpriced', 'forced', 'moderated', 'stated', 'shown', 'described', 'divided', 'declared', 'exercised', 'postponed', 'rescheduled', 'auctioned', 'frozen', 'disappointed', 'eliminated', 'clamped', 'surprised', 'cited', 'subordinated', 'collapsed', 'allowed', 'followed', 'interested', 'purchased', 'escalated', 'stoked', 'publicized', 'identified', 'clarified', 'crossed', 'milked', 'financed', 'integrated', 'performed', 'assumed', 'competed', 'borrowed', 'squeezed', 'switched', 'cultivated', 'tailored', 'troubled', 'triggered', 'needed', 'synchronized', 'expressed', 'done', 'discussed', 'regulated', 'attached', 'rung', 'started', 'muffled', 'absorbed', 'mounted', 'filled', 'fed', 'mixed', 'drawn', 'entered', 'founded', 'remarked', 'observed', 'desired', 'dressed', 'decorated', 'unsettled', 'risen', 'Put', 'sustained', 'tanked', 'renewed', 'invented', 'infringed', 'hired', 'afflicted', 'deteriorated', 'codified', 'gained', 'discarded', 'pointed', 'loaded', 'defined', 'expelled', 'suspended', 'fined', 'represented', 'consented', 'owed', 'Reached', 'rectified', 'noted', 'engaged', 'blocked', 'forgotten', 'tightened', 'reaped', 'stopped', 'pegged', 'backed', 'enacted', 'sought', 'touted', 'faced', 'negotiated', 'Given', 'impressed', 'engineered', 'hurt', 'diversified', 'expanded', 'committed', 'provoked', 'confined', 'stripped', 'reallocated', 'instructed', 'drafted', 'repaired', 'upset', 'altered', 'corrected', 'promised', 'proved', 'understood', 'composed', 'connected', 'regarded', 'robbed', 'deprived', 'organized', 'impaired', 'diminished', 'added', 'advised', 'mentioned', 'answered', 'oriented', 'contributed', 'dominated', 'pushed', 'OFFERED', 'Posted', 'Annualized', 'clashed', 'enjoyed', 'included', 'recruited', 'rumored', 'respected', 'Provided', 'specified', 'predicated', 'endorsed', 'construed', 'supported', 'read', 'contained', 'nominated', 'wasted', 'favored', 'disapproved', 'ratified', 'characterized', 'won', 'entrusted', 'mortgaged', 'reclaimed', 'parched', 'cushioned', 'shut', 'attempted', 'torn', 'staid', 'flirted', 'abandoned', 'stepped', 'headlined', 'secured', 'beleaguered', 'begun', 'plunged', 'missed', 'preapproved', 'upheld', 'accounted', 'vested', 'shaken', 'heated', 'labeled', 'exacerbated', 'wedded', 'headed', 'curbed', 'entrenched', 'stacked', 'frightened', 'automated', 'earned', 'spooked', 'transformed', 'orchestrated', 'gored', 'proven', 'minted', 'beaten', 'practiced', 'implemented', 'feared', 'Left', 'cut', 'appropriated', 'noticed', 'finished', 'documented', 'colored', 'Funded', 'Concerned', 'marketed', 'echoed', 'halted', 'recouped', 'hunted', 'cooled', 'overcome', 'terminated', 'Rated', 'insured', 'rated', 'looked', 'justified', 'discontinued', 'lowered', 'warned', 'structured', 'generated', 'overstated', 'midsized', 'assessed', 'chilled', 'hidden', 'inserted', 'harmed', 'stressed', 'selected', 'directed', 'stimulated', 'bolstered', 'overdone', 'calculated', 'Named', 'revised', 'attributed', 'conducted', 'snapped', 'polled', 'topped', 'outdistanced', 'relaunched', 'restructured', 'repriced', 'concluded', 'hailed', 'despised', 'heightened', 'Used', 'nullified', 'puzzled', 'bought', 'notified', 'merged', 'delisted', 'meant', 'own', 'tendered', 'singled', 'granted', 'felt', 'confused', 'complicated', 'muted', 'Continued', 'split', 'diluted', 'magnified', 'reimbursed', 'subdued', 'controlled', 'liquidated', 'distributed', 'experienced', 'customized', 'extended', 'sweetened', 'derived', 'averted', 'slated', 'delivered', 'capitalized', 'examined', 'reorganized', 'plagued', 'imposed', 'armed', 'rigged', 'subpoenaed', 'planted', 'told', 'centralized', 'resulted', 'forecast', 'fizzled', 'edged', 'battered', 'floated', 'spun', 'licensed', 'qualified', 'specialized', 'trimmed', 'detailed', 'born', 'fashioned', 'bribed', 'arrested', 'Absorbed', 'finalized', 'dashed', 'omitted', 'harvested', 'slowed', 'depleted', 'obligated', 'compressed', 'delayed', 'influenced', 'reflected', 'advanced', 'coated', 'shared']\n"
     ]
    }
   ],
   "source": [
    "wsj = nltk.corpus.treebank.tagged_words()\n",
    "cfd2 = nltk.ConditionalFreqDist([(tag,word) for (word,tag) in wsj])\n",
    "print(len(cfd2['VBN']), list(cfd2['VBN']))"
   ]
  },
  {
   "cell_type": "code",
   "execution_count": 83,
   "metadata": {},
   "outputs": [
    {
     "name": "stdout",
     "output_type": "stream",
     "text": [
      "that\n",
      "dict_keys(['CS', 'WPS', 'DT', 'QL', 'WPO', 'CS-HL', 'DT-NC', 'NIL', 'WPS-NC', 'WPO-NC', 'CS-NC', 'WPS-HL'])\n"
     ]
    }
   ],
   "source": [
    "# ข้อ 15.2 คำที่มีติด tag มากที่สุดคือคำว่าอะไร\n",
    "\n",
    "freq2D = nltk.ConditionalFreqDist(nltk.corpus.brown.tagged_words())\n",
    "sortedDist = sorted([(name,len(freq2D[name])) for name in freq2D.keys()], key=lambda x: x[1],reverse=True)\n",
    "print(sortedDist[0][0])\n",
    "print(freq2D[sortedDist[0][0]].keys())"
   ]
  },
  {
   "cell_type": "code",
   "execution_count": 84,
   "metadata": {},
   "outputs": [
    {
     "name": "stdout",
     "output_type": "stream",
     "text": [
      "that\n",
      "dict_keys(['ADP', 'PRON', 'DET', 'ADV', 'X'])\n"
     ]
    }
   ],
   "source": [
    "# ข้อ 15.2 คำที่มีติด tag มากที่สุดคือคำว่าอะไร (Universal tag)\n",
    "\n",
    "freq2D = nltk.ConditionalFreqDist(nltk.corpus.brown.tagged_words(tagset='universal'))\n",
    "sortedDist = sorted([(name,len(freq2D[name])) for name in freq2D.keys()], key=lambda x: x[1],reverse=True)\n",
    "print(sortedDist[0][0])\n",
    "print(freq2D[sortedDist[0][0]].keys())"
   ]
  },
  {
   "cell_type": "code",
   "execution_count": 86,
   "metadata": {},
   "outputs": [
    {
     "name": "stdout",
     "output_type": "stream",
     "text": [
      "[('.', 78326), ('ADP', 67460), ('VERB', 43819), ('NOUN', 41309), ('CONJ', 16451)]\n"
     ]
    }
   ],
   "source": [
    "# ข้อ 15.4 tag ที่ตามหลังคำนามเยอะที่สุด\n",
    "brown_news_tagged = nltk.corpus.brown.tagged_words(tagset = 'universal')\n",
    "word_tag_pairs = list(nltk.bigrams(brown_news_tagged))\n",
    "noun_preceders = [b[1] for (a,b) in word_tag_pairs if a[1] == 'NOUN'] \n",
    "fdist = nltk.FreqDist(noun_preceders)\n",
    "print(fdist.most_common(5))\n"
   ]
  },
  {
   "cell_type": "code",
   "execution_count": 94,
   "metadata": {},
   "outputs": [
    {
     "name": "stdout",
     "output_type": "stream",
     "text": [
      "damn\n",
      "down\n",
      "round\n",
      "that\n",
      "to\n",
      "well\n"
     ]
    }
   ],
   "source": [
    "# ข้อ 15.2 แบบอาจารย์\n",
    "brown_news_tagged = nltk.corpus.brown.tagged_words(tagset = 'universal')\n",
    "data = nltk.ConditionalFreqDist((word.lower(), tag) for word,tag in brown_news_tagged)\n",
    "for word in sorted(data.conditions()):\n",
    "    if len(data[word]) > 4:\n",
    "        print(word)"
   ]
  },
  {
   "cell_type": "code",
   "execution_count": null,
   "metadata": {},
   "outputs": [],
   "source": [
    "#18 คำไหนกำกวม (ติด tag มากกว่า 2 อันขึ้นไป)\n",
    "freq2D = nltk.ConditionalFreqDist(nltk.corpus.brown.tagged_words(tagset='universal'))\n",
    "gamgum = [(name,len(freq2D[name])) for name in freq2D.keys() if len(freq2D[name]) >= 2]\n",
    "print(\"คำที่กำกวม\", len(gamgum))\n",
    "print(\"คำที่ไม่กำกวม\", len(freq2D.keys())- len(gamgum))\n"
   ]
  },
  {
   "cell_type": "code",
   "execution_count": null,
   "metadata": {},
   "outputs": [],
   "source": []
  }
 ],
 "metadata": {
  "kernelspec": {
   "display_name": "Python 3",
   "language": "python",
   "name": "python3"
  },
  "language_info": {
   "codemirror_mode": {
    "name": "ipython",
    "version": 3
   },
   "file_extension": ".py",
   "mimetype": "text/x-python",
   "name": "python",
   "nbconvert_exporter": "python",
   "pygments_lexer": "ipython3",
   "version": "3.6.2"
  }
 },
 "nbformat": 4,
 "nbformat_minor": 2
}
